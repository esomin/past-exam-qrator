{
 "cells": [
  {
   "cell_type": "code",
   "execution_count": 6,
   "id": "ed7b8fec-bdb2-4cf6-858c-806e5bd37422",
   "metadata": {},
   "outputs": [
    {
     "name": "stdout",
     "output_type": "stream",
     "text": [
      "전체 3149개 중 남김 3085개, 제거 64개\n",
      "저장 완료 → data/answers_filtered.json, data/answers_removed.json\n"
     ]
    }
   ],
   "source": [
    "import json\n",
    "import re\n",
    "from pathlib import Path\n",
    "\n",
    "# 파일 경로 설정\n",
    "input_file = Path(\"data/answers.json\")\n",
    "output_file = Path(\"data/answers_filtered.json\")\n",
    "removed_file = Path(\"data/answers_removed.json\")\n",
    "\n",
    "# (1) 자모 나열만 있는 라인: \"ㄱ, ㄴ, ㄷ\" 같은 패턴\n",
    "jamo_list_re = re.compile(r'^[\\sㆍ,]*[ㄱ-ㅎ](?:\\s*[ㆍ,]\\s*[ㄱ-ㅎ])*[\\sㆍ,]*$')\n",
    "\n",
    "# (2) 단독 \"숫자개\" 또는 \"xx개\"\n",
    "count_re = re.compile(r'^(?:\\d+|xx)개$')\n",
    "\n",
    "# [id] 같은 접두사 제거\n",
    "prefix_re = re.compile(r'^\\[.*?\\]\\s*')\n",
    "def extract_body(item: str) -> str:\n",
    "    return prefix_re.sub('', item).strip()\n",
    "\n",
    "# JSON 로드\n",
    "with input_file.open(\"r\", encoding=\"utf-8\") as f:\n",
    "    data = json.load(f)\n",
    "\n",
    "kept = []\n",
    "removed = []\n",
    "\n",
    "for item in data:\n",
    "    body = extract_body(item)\n",
    "    if jamo_list_re.match(body) or count_re.match(body):\n",
    "        removed.append(item)\n",
    "    else:\n",
    "        kept.append(item)\n",
    "\n",
    "print(f\"전체 {len(data)}개 중 남김 {len(kept)}개, 제거 {len(removed)}개\")\n",
    "\n",
    "# 결과 저장\n",
    "with output_file.open(\"w\", encoding=\"utf-8\") as f:\n",
    "    json.dump(kept, f, ensure_ascii=False, indent=2)\n",
    "with removed_file.open(\"w\", encoding=\"utf-8\") as f:\n",
    "    json.dump(removed, f, ensure_ascii=False, indent=2)\n",
    "\n",
    "print(f\"저장 완료 → {output_file}, {removed_file}\")\n"
   ]
  },
  {
   "cell_type": "code",
   "execution_count": null,
   "id": "9fac6381-6c47-4483-b619-9e45cd674ffa",
   "metadata": {},
   "outputs": [],
   "source": []
  }
 ],
 "metadata": {
  "kernelspec": {
   "display_name": "Python 3 (ipykernel)",
   "language": "python",
   "name": "python3"
  },
  "language_info": {
   "codemirror_mode": {
    "name": "ipython",
    "version": 3
   },
   "file_extension": ".py",
   "mimetype": "text/x-python",
   "name": "python",
   "nbconvert_exporter": "python",
   "pygments_lexer": "ipython3",
   "version": "3.11.0"
  }
 },
 "nbformat": 4,
 "nbformat_minor": 5
}
