{
 "cells": [
  {
   "cell_type": "code",
   "execution_count": 1,
   "id": "ced119dc-2e5b-4fdd-bd30-b244db9fb41c",
   "metadata": {},
   "outputs": [
    {
     "name": "stdout",
     "output_type": "stream",
     "text": [
      "전체 3085개 항목을 10개 파일로 분할 (chunk_size=309)\n",
      "data/splits/answers_filtered_part1.json ← 309개 저장 완료\n",
      "data/splits/answers_filtered_part2.json ← 309개 저장 완료\n",
      "data/splits/answers_filtered_part3.json ← 309개 저장 완료\n",
      "data/splits/answers_filtered_part4.json ← 309개 저장 완료\n",
      "data/splits/answers_filtered_part5.json ← 309개 저장 완료\n",
      "data/splits/answers_filtered_part6.json ← 309개 저장 완료\n",
      "data/splits/answers_filtered_part7.json ← 309개 저장 완료\n",
      "data/splits/answers_filtered_part8.json ← 309개 저장 완료\n",
      "data/splits/answers_filtered_part9.json ← 309개 저장 완료\n",
      "data/splits/answers_filtered_part10.json ← 304개 저장 완료\n"
     ]
    }
   ],
   "source": [
    "import json\n",
    "from pathlib import Path\n",
    "import math\n",
    "\n",
    "# 설정\n",
    "input_file = Path(\"data/answers_filtered.json\")\n",
    "output_dir = Path(\"data/splits\")\n",
    "n = 10  # 쪼갤 파일 개수 (기본 10개)\n",
    "\n",
    "# 디렉토리 생성\n",
    "output_dir.mkdir(parents=True, exist_ok=True)\n",
    "\n",
    "# 데이터 로드\n",
    "with input_file.open(\"r\", encoding=\"utf-8\") as f:\n",
    "    data = json.load(f)\n",
    "\n",
    "total = len(data)\n",
    "chunk_size = math.ceil(total / n)\n",
    "\n",
    "print(f\"전체 {total}개 항목을 {n}개 파일로 분할 (chunk_size={chunk_size})\")\n",
    "\n",
    "# 쪼개서 저장\n",
    "for i in range(n):\n",
    "    start = i * chunk_size\n",
    "    end = start + chunk_size\n",
    "    chunk = data[start:end]\n",
    "    \n",
    "    if not chunk:\n",
    "        break\n",
    "    \n",
    "    output_file = output_dir / f\"answers_filtered_part{i+1}.json\"\n",
    "    with output_file.open(\"w\", encoding=\"utf-8\") as f:\n",
    "        json.dump(chunk, f, ensure_ascii=False, indent=2)\n",
    "    \n",
    "    print(f\"{output_file} ← {len(chunk)}개 저장 완료\")\n"
   ]
  },
  {
   "cell_type": "code",
   "execution_count": null,
   "id": "d7458db3-ca6b-484c-9172-3ed691ce86aa",
   "metadata": {},
   "outputs": [],
   "source": []
  }
 ],
 "metadata": {
  "kernelspec": {
   "display_name": "Python 3 (ipykernel)",
   "language": "python",
   "name": "python3"
  },
  "language_info": {
   "codemirror_mode": {
    "name": "ipython",
    "version": 3
   },
   "file_extension": ".py",
   "mimetype": "text/x-python",
   "name": "python",
   "nbconvert_exporter": "python",
   "pygments_lexer": "ipython3",
   "version": "3.11.0"
  }
 },
 "nbformat": 4,
 "nbformat_minor": 5
}
