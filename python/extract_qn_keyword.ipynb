{
 "cells": [
  {
   "cell_type": "code",
   "execution_count": 7,
   "id": "d18b89de-1b4b-4a65-9c0e-af93f223aef7",
   "metadata": {},
   "outputs": [
    {
     "name": "stdout",
     "output_type": "stream",
     "text": [
      "/Users/esomin/runtorun/output-data/questions.json\n"
     ]
    }
   ],
   "source": [
    "from pathlib import Path\n",
    "\n",
    "PROJECT_ROOT = Path(__file__).resolve().parents[1] if \"__file__\" in globals() else Path.cwd().parent\n",
    "INPUT_FILE = PROJECT_ROOT / \"output-data/questions.json\"\n",
    "OUTPUT_FILE = PROJECT_ROOT / \"output-data/questions_keyword.json\"\n",
    "\n",
    "print(INPUT_FILE)"
   ]
  },
  {
   "cell_type": "markdown",
   "id": "72960b9b-9879-48e0-9d2d-2ec5b2ceaac3",
   "metadata": {},
   "source": [
    "## From string arry input"
   ]
  },
  {
   "cell_type": "code",
   "execution_count": 28,
   "id": "ebef5f08-6c6e-4451-bcf5-24a0a3b4fa7d",
   "metadata": {},
   "outputs": [
    {
     "name": "stdout",
     "output_type": "stream",
     "text": [
      "✅ 키워드 추출 완료 → data/questions_keyword.json\n"
     ]
    }
   ],
   "source": [
    "import re\n",
    "import json\n",
    "import unicodedata\n",
    "\n",
    "# 파일 경로\n",
    "input_file = \"data/questions.json\"\n",
    "output_file = \"data/questions_keyword.json\"\n",
    "\n",
    "# 정규식 패턴: \"에 대한/에 관한\" + 문제 꼬리 어미까지 포함\n",
    "pattern = re.compile(r\"\"\"\n",
    "    (.+?)                   # 캡처: 핵심 키워드\n",
    "    (?=                     # Lookahead 시작\n",
    "        에\\s+(대한|관한)       # \"에 대한/에 관한\"\n",
    "        | [과와]\\s*관련(된|한|하여) # \"과/와 관련된/관련한/관련하여\"\n",
    "        | 의\\s*내용\\s*중        # \"의 내용 중\"\n",
    "        | 에\\s*해당(하는|하지)   # \"에 해당하는/에 해당하지\"\n",
    "        | 로만\\s*묶은          # \"로만 묶은\"\n",
    "        | 으로                 # \"으로\"\n",
    "    )                       # Lookahead 끝\n",
    "\"\"\", re.VERBOSE)\n",
    "\n",
    "def normalize_text(text: str) -> str:\n",
    "    \"\"\"유니코드 정규화\"\"\"\n",
    "    return unicodedata.normalize(\"NFKC\", text).strip()\n",
    "\n",
    "def clean_prefix(text: str) -> str:\n",
    "    text = normalize_text(text)\n",
    "    # 1. [숫자] 문제번호 제거\n",
    "    text = re.sub(r\"^\\[\\d+\\]\\s*\", \"\", text)\n",
    "    # 2. \"다음\", \"다음 중\" 제거 (맨 앞 또는 카테고리 뒤)\n",
    "    text = re.sub(r\"(^|\\]\\s*)다음\\s*중\\s*\", r\"\\1\", text)\n",
    "    text = re.sub(r\"(^|\\]\\s*)다음\\s*\", r\"\\1\", text)\n",
    "    return text.strip()\n",
    "\n",
    "\n",
    "def extract_subject(stem: str) -> str:\n",
    "    stem = normalize_text(stem)\n",
    "    match = pattern.search(stem)\n",
    "    if match:\n",
    "        subject = match.group(1).strip()\n",
    "    else:\n",
    "        subject = stem\n",
    "    return clean_prefix(subject)\n",
    "\n",
    "# 파일 읽기\n",
    "with open(input_file, \"r\", encoding=\"utf-8\") as f:\n",
    "    stems = json.load(f)\n",
    "\n",
    "# keyword만 리스트로 저장\n",
    "keywords = [extract_subject(stem) for stem in stems]\n",
    "\n",
    "# 결과 저장\n",
    "with open(output_file, \"w\", encoding=\"utf-8\") as f:\n",
    "    json.dump(keywords, f, ensure_ascii=False, indent=2)\n",
    "\n",
    "print(f\"✅ 키워드 추출 완료 → {output_file}\")\n"
   ]
  },
  {
   "cell_type": "code",
   "execution_count": null,
   "id": "f6ae3b75-0e92-4c29-a2da-d87b433498ee",
   "metadata": {},
   "outputs": [],
   "source": []
  }
 ],
 "metadata": {
  "kernelspec": {
   "display_name": "Python 3 (ipykernel)",
   "language": "python",
   "name": "python3"
  },
  "language_info": {
   "codemirror_mode": {
    "name": "ipython",
    "version": 3
   },
   "file_extension": ".py",
   "mimetype": "text/x-python",
   "name": "python",
   "nbconvert_exporter": "python",
   "pygments_lexer": "ipython3",
   "version": "3.11.0"
  }
 },
 "nbformat": 4,
 "nbformat_minor": 5
}
