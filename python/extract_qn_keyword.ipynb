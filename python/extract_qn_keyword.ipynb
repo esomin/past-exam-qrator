{
 "cells": [
  {
   "cell_type": "code",
   "execution_count": null,
   "id": "d18b89de-1b4b-4a65-9c0e-af93f223aef7",
   "metadata": {},
   "outputs": [],
   "source": []
  },
  {
   "cell_type": "markdown",
   "id": "72960b9b-9879-48e0-9d2d-2ec5b2ceaac3",
   "metadata": {},
   "source": [
    "## From string arry input"
   ]
  },
  {
   "cell_type": "code",
   "execution_count": 11,
   "id": "ebef5f08-6c6e-4451-bcf5-24a0a3b4fa7d",
   "metadata": {},
   "outputs": [
    {
     "name": "stdout",
     "output_type": "stream",
     "text": [
      "✅ 키워드 추출 완료 → questions_keyword.json\n"
     ]
    }
   ],
   "source": [
    "# keyword string array로 출력\n",
    "import re\n",
    "import json\n",
    "\n",
    "# 파일 경로\n",
    "input_file = \"questions.json\"\n",
    "output_file = \"questions_keyword.json\"\n",
    "\n",
    "# 정규식 패턴: \"에 대한/에 관한\" 앞까지 추출\n",
    "pattern = re.compile(r\"(.+?)(?=에 대한|에 관한)\")\n",
    "\n",
    "# 제거할 불필요한 접두어\n",
    "prefixes_to_remove = [\n",
    "    \"다음 중 \",\n",
    "    \"다음 \",\n",
    "]\n",
    "\n",
    "def clean_prefix(text: str) -> str:\n",
    "    \"\"\"불필요한 접두어 제거\"\"\"\n",
    "    for prefix in prefixes_to_remove:\n",
    "        if text.startswith(prefix):\n",
    "            return text[len(prefix):]\n",
    "    return text\n",
    "\n",
    "def extract_subject(stem: str) -> str:\n",
    "    \"\"\"문제 stem에서 주제를 추출\"\"\"\n",
    "    match = pattern.search(stem)\n",
    "    if match:\n",
    "        subject = match.group(1).strip()\n",
    "        subject = clean_prefix(subject)\n",
    "        return subject\n",
    "    return stem.strip()\n",
    "\n",
    "# 파일 읽기\n",
    "with open(input_file, \"r\", encoding=\"utf-8\") as f:\n",
    "    stems = json.load(f)  # 문자열 리스트\n",
    "\n",
    "# keyword만 리스트로 저장\n",
    "keywords = [extract_subject(stem) for stem in stems]\n",
    "\n",
    "# 결과 저장\n",
    "with open(output_file, \"w\", encoding=\"utf-8\") as f:\n",
    "    json.dump(keywords, f, ensure_ascii=False, indent=2)\n",
    "\n",
    "print(f\"✅ 키워드 추출 완료 → {output_file}\")\n"
   ]
  },
  {
   "cell_type": "code",
   "execution_count": 10,
   "id": "7016e17f-4a4f-4ab9-a4dd-30bec7610f1e",
   "metadata": {},
   "outputs": [
    {
     "name": "stdout",
     "output_type": "stream",
     "text": [
      "✅ 키워드 추출 완료 → questions_keyword.json\n"
     ]
    }
   ],
   "source": [
    "# stem + keyword object array로 출력\n",
    "import re\n",
    "import json\n",
    "\n",
    "# 파일 경로\n",
    "input_file = \"questions.json\"\n",
    "output_file = \"questions_keyword.json\"\n",
    "\n",
    "# 정규식 패턴: \"에 대한/에 관한\" 앞까지 추출\n",
    "pattern = re.compile(r\"(.+?)(?=에 대한|에 관한)\")\n",
    "\n",
    "# 제거할 불필요한 접두어 리스트\n",
    "prefixes_to_remove = [\n",
    "    \"다음 중 \",\n",
    "    \"다음 \",\n",
    "]\n",
    "\n",
    "def clean_prefix(text: str) -> str:\n",
    "    \"\"\"불필요한 접두어 제거\"\"\"\n",
    "    for prefix in prefixes_to_remove:\n",
    "        if text.startswith(prefix):\n",
    "            return text[len(prefix):]\n",
    "    return text\n",
    "\n",
    "def extract_subject(stem: str) -> str:\n",
    "    \"\"\"문제 stem에서 주제를 추출\"\"\"\n",
    "    match = pattern.search(stem)\n",
    "    if match:\n",
    "        subject = match.group(1).strip()\n",
    "        subject = clean_prefix(subject)  # 접두어 제거\n",
    "        return subject\n",
    "    return stem.strip()\n",
    "\n",
    "# 파일 읽기\n",
    "with open(input_file, \"r\", encoding=\"utf-8\") as f:\n",
    "    stems = json.load(f)\n",
    "\n",
    "results = []\n",
    "for stem in stems:\n",
    "    subject = extract_subject(stem)\n",
    "    results.append({\n",
    "        \"stem\": stem,\n",
    "        \"keyword\": subject\n",
    "    })\n",
    "\n",
    "# 결과 저장\n",
    "with open(output_file, \"w\", encoding=\"utf-8\") as f:\n",
    "    json.dump(results, f, ensure_ascii=False, indent=2)\n",
    "\n",
    "print(f\"✅ 키워드 추출 완료 → {output_file}\")\n"
   ]
  },
  {
   "cell_type": "code",
   "execution_count": 2,
   "id": "ddba85c5-4390-45bb-a4ca-49faf891fb44",
   "metadata": {},
   "outputs": [
    {
     "name": "stdout",
     "output_type": "stream",
     "text": [
      "원문: 법원에 대한 설명으로 옳지 않은 것은?\n",
      "주제: 법원\n",
      "----------------------------------------\n",
      "원문: 사법권에 관한 설명으로 옳은 것은?\n",
      "주제: 사법권\n",
      "----------------------------------------\n",
      "원문: 대통령의 권한에 관한 다음 설명 중 옳지 않은 것은?\n",
      "주제: 대통령의 권한\n",
      "----------------------------------------\n",
      "원문: 헌법재판소의 권한에 관한 다음 기술 중 옳은 것은?\n",
      "주제: 헌법재판소의 권한\n",
      "----------------------------------------\n",
      "원문: <보기>의 사례에 대한 설명으로 옳은 것은?\n",
      "주제: <보기>의 사례\n",
      "----------------------------------------\n"
     ]
    }
   ],
   "source": [
    "import re\n",
    "\n",
    "# 테스트용 stems\n",
    "stems = [\n",
    "    \"법원에 대한 설명으로 옳지 않은 것은?\",\n",
    "    \"사법권에 관한 설명으로 옳은 것은?\",\n",
    "    \"대통령의 권한에 관한 다음 설명 중 옳지 않은 것은?\",\n",
    "    \"헌법재판소의 권한에 관한 다음 기술 중 옳은 것은?\",\n",
    "    \"<보기>의 사례에 대한 설명으로 옳은 것은?\"\n",
    "]\n",
    "\n",
    "# 정규식: \"에 대한/관한\" 앞의 주제를 뽑되, \"의 권한/의 지위\" 같은 것도 포함\n",
    "pattern = re.compile(r\"(.+?)(?=에 대한|에 관한)\")\n",
    "\n",
    "for stem in stems:\n",
    "    match = pattern.search(stem)\n",
    "    if match:\n",
    "        subject = match.group(1).strip()\n",
    "        print(f\"원문: {stem}\")\n",
    "        print(f\"주제: {subject}\")\n",
    "        print(\"-\" * 40)\n"
   ]
  },
  {
   "cell_type": "code",
   "execution_count": null,
   "id": "f6ae3b75-0e92-4c29-a2da-d87b433498ee",
   "metadata": {},
   "outputs": [],
   "source": []
  }
 ],
 "metadata": {
  "kernelspec": {
   "display_name": "Python 3 (ipykernel)",
   "language": "python",
   "name": "python3"
  },
  "language_info": {
   "codemirror_mode": {
    "name": "ipython",
    "version": 3
   },
   "file_extension": ".py",
   "mimetype": "text/x-python",
   "name": "python",
   "nbconvert_exporter": "python",
   "pygments_lexer": "ipython3",
   "version": "3.11.0"
  }
 },
 "nbformat": 4,
 "nbformat_minor": 5
}
